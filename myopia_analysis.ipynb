{
 "cells": [
  {
   "cell_type": "code",
   "execution_count": 10,
   "id": "d8419086",
   "metadata": {},
   "outputs": [],
   "source": [
    "#Imports\n",
    "import pandas as pd\n",
    "from path import Path\n",
    "from sklearn.decomposition import PCA\n",
    "from sklearn.preprocessing import StandardScaler\n",
    "from sklearn.model_selection import train_test_split\n",
    "from sklearn.manifold import TSNE\n",
    "import matplotlib.pyplot as plt"
   ]
  },
  {
   "cell_type": "code",
   "execution_count": 2,
   "id": "4f8a9135",
   "metadata": {},
   "outputs": [
    {
     "data": {
      "text/html": [
       "<div>\n",
       "<style scoped>\n",
       "    .dataframe tbody tr th:only-of-type {\n",
       "        vertical-align: middle;\n",
       "    }\n",
       "\n",
       "    .dataframe tbody tr th {\n",
       "        vertical-align: top;\n",
       "    }\n",
       "\n",
       "    .dataframe thead th {\n",
       "        text-align: right;\n",
       "    }\n",
       "</style>\n",
       "<table border=\"1\" class=\"dataframe\">\n",
       "  <thead>\n",
       "    <tr style=\"text-align: right;\">\n",
       "      <th></th>\n",
       "      <th>AGE</th>\n",
       "      <th>SPHEQ</th>\n",
       "      <th>AL</th>\n",
       "      <th>ACD</th>\n",
       "      <th>LT</th>\n",
       "      <th>VCD</th>\n",
       "      <th>SPORTHR</th>\n",
       "      <th>READHR</th>\n",
       "      <th>COMPHR</th>\n",
       "      <th>STUDYHR</th>\n",
       "      <th>TVHR</th>\n",
       "      <th>DIOPTERHR</th>\n",
       "      <th>MOMMY</th>\n",
       "      <th>DADMY</th>\n",
       "      <th>MYOPIC</th>\n",
       "    </tr>\n",
       "  </thead>\n",
       "  <tbody>\n",
       "    <tr>\n",
       "      <th>0</th>\n",
       "      <td>6</td>\n",
       "      <td>-0.052</td>\n",
       "      <td>21.889999</td>\n",
       "      <td>3.690</td>\n",
       "      <td>3.498</td>\n",
       "      <td>14.70</td>\n",
       "      <td>45</td>\n",
       "      <td>8</td>\n",
       "      <td>0</td>\n",
       "      <td>0</td>\n",
       "      <td>10</td>\n",
       "      <td>34</td>\n",
       "      <td>1</td>\n",
       "      <td>1</td>\n",
       "      <td>1</td>\n",
       "    </tr>\n",
       "    <tr>\n",
       "      <th>1</th>\n",
       "      <td>6</td>\n",
       "      <td>0.608</td>\n",
       "      <td>22.379999</td>\n",
       "      <td>3.702</td>\n",
       "      <td>3.392</td>\n",
       "      <td>15.29</td>\n",
       "      <td>4</td>\n",
       "      <td>0</td>\n",
       "      <td>1</td>\n",
       "      <td>1</td>\n",
       "      <td>7</td>\n",
       "      <td>12</td>\n",
       "      <td>1</td>\n",
       "      <td>1</td>\n",
       "      <td>0</td>\n",
       "    </tr>\n",
       "    <tr>\n",
       "      <th>2</th>\n",
       "      <td>6</td>\n",
       "      <td>1.179</td>\n",
       "      <td>22.490000</td>\n",
       "      <td>3.462</td>\n",
       "      <td>3.514</td>\n",
       "      <td>15.52</td>\n",
       "      <td>14</td>\n",
       "      <td>0</td>\n",
       "      <td>2</td>\n",
       "      <td>0</td>\n",
       "      <td>10</td>\n",
       "      <td>14</td>\n",
       "      <td>0</td>\n",
       "      <td>0</td>\n",
       "      <td>0</td>\n",
       "    </tr>\n",
       "    <tr>\n",
       "      <th>3</th>\n",
       "      <td>6</td>\n",
       "      <td>0.525</td>\n",
       "      <td>22.200001</td>\n",
       "      <td>3.862</td>\n",
       "      <td>3.612</td>\n",
       "      <td>14.73</td>\n",
       "      <td>18</td>\n",
       "      <td>11</td>\n",
       "      <td>0</td>\n",
       "      <td>0</td>\n",
       "      <td>4</td>\n",
       "      <td>37</td>\n",
       "      <td>0</td>\n",
       "      <td>1</td>\n",
       "      <td>1</td>\n",
       "    </tr>\n",
       "    <tr>\n",
       "      <th>4</th>\n",
       "      <td>5</td>\n",
       "      <td>0.697</td>\n",
       "      <td>23.290001</td>\n",
       "      <td>3.676</td>\n",
       "      <td>3.454</td>\n",
       "      <td>16.16</td>\n",
       "      <td>14</td>\n",
       "      <td>0</td>\n",
       "      <td>0</td>\n",
       "      <td>0</td>\n",
       "      <td>4</td>\n",
       "      <td>4</td>\n",
       "      <td>1</td>\n",
       "      <td>0</td>\n",
       "      <td>0</td>\n",
       "    </tr>\n",
       "  </tbody>\n",
       "</table>\n",
       "</div>"
      ],
      "text/plain": [
       "   AGE  SPHEQ         AL    ACD     LT    VCD  SPORTHR  READHR  COMPHR  \\\n",
       "0    6 -0.052  21.889999  3.690  3.498  14.70       45       8       0   \n",
       "1    6  0.608  22.379999  3.702  3.392  15.29        4       0       1   \n",
       "2    6  1.179  22.490000  3.462  3.514  15.52       14       0       2   \n",
       "3    6  0.525  22.200001  3.862  3.612  14.73       18      11       0   \n",
       "4    5  0.697  23.290001  3.676  3.454  16.16       14       0       0   \n",
       "\n",
       "   STUDYHR  TVHR  DIOPTERHR  MOMMY  DADMY  MYOPIC  \n",
       "0        0    10         34      1      1       1  \n",
       "1        1     7         12      1      1       0  \n",
       "2        0    10         14      0      0       0  \n",
       "3        0     4         37      0      1       1  \n",
       "4        0     4          4      1      0       0  "
      ]
     },
     "execution_count": 2,
     "metadata": {},
     "output_type": "execute_result"
    }
   ],
   "source": [
    "# Load the myopia dataset\n",
    "file_path = Path(\"myopia.csv\")\n",
    "df = pd.read_csv(file_path)\n",
    "df.head()"
   ]
  },
  {
   "cell_type": "code",
   "execution_count": 3,
   "id": "8136376b",
   "metadata": {},
   "outputs": [
    {
     "data": {
      "text/html": [
       "<div>\n",
       "<style scoped>\n",
       "    .dataframe tbody tr th:only-of-type {\n",
       "        vertical-align: middle;\n",
       "    }\n",
       "\n",
       "    .dataframe tbody tr th {\n",
       "        vertical-align: top;\n",
       "    }\n",
       "\n",
       "    .dataframe thead th {\n",
       "        text-align: right;\n",
       "    }\n",
       "</style>\n",
       "<table border=\"1\" class=\"dataframe\">\n",
       "  <thead>\n",
       "    <tr style=\"text-align: right;\">\n",
       "      <th></th>\n",
       "      <th>AGE</th>\n",
       "      <th>SPHEQ</th>\n",
       "      <th>AL</th>\n",
       "      <th>ACD</th>\n",
       "      <th>LT</th>\n",
       "      <th>VCD</th>\n",
       "      <th>SPORTHR</th>\n",
       "      <th>READHR</th>\n",
       "      <th>COMPHR</th>\n",
       "      <th>STUDYHR</th>\n",
       "      <th>TVHR</th>\n",
       "      <th>DIOPTERHR</th>\n",
       "      <th>MOMMY</th>\n",
       "      <th>DADMY</th>\n",
       "    </tr>\n",
       "  </thead>\n",
       "  <tbody>\n",
       "    <tr>\n",
       "      <th>0</th>\n",
       "      <td>6</td>\n",
       "      <td>-0.052</td>\n",
       "      <td>21.889999</td>\n",
       "      <td>3.690</td>\n",
       "      <td>3.498</td>\n",
       "      <td>14.70</td>\n",
       "      <td>45</td>\n",
       "      <td>8</td>\n",
       "      <td>0</td>\n",
       "      <td>0</td>\n",
       "      <td>10</td>\n",
       "      <td>34</td>\n",
       "      <td>1</td>\n",
       "      <td>1</td>\n",
       "    </tr>\n",
       "    <tr>\n",
       "      <th>1</th>\n",
       "      <td>6</td>\n",
       "      <td>0.608</td>\n",
       "      <td>22.379999</td>\n",
       "      <td>3.702</td>\n",
       "      <td>3.392</td>\n",
       "      <td>15.29</td>\n",
       "      <td>4</td>\n",
       "      <td>0</td>\n",
       "      <td>1</td>\n",
       "      <td>1</td>\n",
       "      <td>7</td>\n",
       "      <td>12</td>\n",
       "      <td>1</td>\n",
       "      <td>1</td>\n",
       "    </tr>\n",
       "    <tr>\n",
       "      <th>2</th>\n",
       "      <td>6</td>\n",
       "      <td>1.179</td>\n",
       "      <td>22.490000</td>\n",
       "      <td>3.462</td>\n",
       "      <td>3.514</td>\n",
       "      <td>15.52</td>\n",
       "      <td>14</td>\n",
       "      <td>0</td>\n",
       "      <td>2</td>\n",
       "      <td>0</td>\n",
       "      <td>10</td>\n",
       "      <td>14</td>\n",
       "      <td>0</td>\n",
       "      <td>0</td>\n",
       "    </tr>\n",
       "    <tr>\n",
       "      <th>3</th>\n",
       "      <td>6</td>\n",
       "      <td>0.525</td>\n",
       "      <td>22.200001</td>\n",
       "      <td>3.862</td>\n",
       "      <td>3.612</td>\n",
       "      <td>14.73</td>\n",
       "      <td>18</td>\n",
       "      <td>11</td>\n",
       "      <td>0</td>\n",
       "      <td>0</td>\n",
       "      <td>4</td>\n",
       "      <td>37</td>\n",
       "      <td>0</td>\n",
       "      <td>1</td>\n",
       "    </tr>\n",
       "    <tr>\n",
       "      <th>4</th>\n",
       "      <td>5</td>\n",
       "      <td>0.697</td>\n",
       "      <td>23.290001</td>\n",
       "      <td>3.676</td>\n",
       "      <td>3.454</td>\n",
       "      <td>16.16</td>\n",
       "      <td>14</td>\n",
       "      <td>0</td>\n",
       "      <td>0</td>\n",
       "      <td>0</td>\n",
       "      <td>4</td>\n",
       "      <td>4</td>\n",
       "      <td>1</td>\n",
       "      <td>0</td>\n",
       "    </tr>\n",
       "  </tbody>\n",
       "</table>\n",
       "</div>"
      ],
      "text/plain": [
       "   AGE  SPHEQ         AL    ACD     LT    VCD  SPORTHR  READHR  COMPHR  \\\n",
       "0    6 -0.052  21.889999  3.690  3.498  14.70       45       8       0   \n",
       "1    6  0.608  22.379999  3.702  3.392  15.29        4       0       1   \n",
       "2    6  1.179  22.490000  3.462  3.514  15.52       14       0       2   \n",
       "3    6  0.525  22.200001  3.862  3.612  14.73       18      11       0   \n",
       "4    5  0.697  23.290001  3.676  3.454  16.16       14       0       0   \n",
       "\n",
       "   STUDYHR  TVHR  DIOPTERHR  MOMMY  DADMY  \n",
       "0        0    10         34      1      1  \n",
       "1        1     7         12      1      1  \n",
       "2        0    10         14      0      0  \n",
       "3        0     4         37      0      1  \n",
       "4        0     4          4      1      0  "
      ]
     },
     "execution_count": 3,
     "metadata": {},
     "output_type": "execute_result"
    }
   ],
   "source": [
    "# Preapre data\n",
    "df_myopia = df.drop(columns=[\"MYOPIC\"])\n",
    "df_myopia.head()"
   ]
  },
  {
   "cell_type": "code",
   "execution_count": 4,
   "id": "b0bd0ba1",
   "metadata": {},
   "outputs": [
    {
     "name": "stdout",
     "output_type": "stream",
     "text": [
      "[[-0.42021911 -1.3639169  -0.89286146  0.48378402 -0.28144315 -1.0197916\n",
      "   4.1506609   1.69744958 -0.68931054 -0.67299591  0.18405806  0.49830393\n",
      "   0.98713773  1.0032415 ]\n",
      " [-0.42021911 -0.30861224 -0.1718398   0.53591028 -0.96799728 -0.13076253\n",
      "  -0.99889822 -0.91206246 -0.36187479 -0.22140908 -0.34093217 -0.87508755\n",
      "   0.98713773  1.0032415 ]\n",
      " [-0.42021911  0.60438629 -0.00997682 -0.5066285  -0.17781207  0.21580879\n",
      "   0.25709181 -0.91206246 -0.03443904 -0.67299591  0.18405806 -0.75023378\n",
      "  -1.01302987 -0.99676897]\n",
      " [-0.42021911 -0.4413248  -0.43670267  1.23093648  0.4569273  -0.97458715\n",
      "   0.75948782  2.6760166  -0.68931054 -0.67299591 -0.86592239  0.68558458\n",
      "  -1.01302987  1.0032415 ]\n",
      " [-1.82397807 -0.16630592  1.16720365  0.42296952 -0.56642745  1.18017813\n",
      "   0.25709181 -0.91206246 -0.68931054 -0.67299591 -0.86592239 -1.37450264\n",
      "   0.98713773 -0.99676897]]\n"
     ]
    }
   ],
   "source": [
    "myopia_scaled = StandardScaler().fit_transform(df_myopia)\n",
    "print(myopia_scaled[0:5])"
   ]
  },
  {
   "cell_type": "code",
   "execution_count": 8,
   "id": "7bc3ccc0",
   "metadata": {},
   "outputs": [],
   "source": [
    "# Initialize PCA model\n",
    "pca = PCA(n_components=0.99)\n",
    "\n",
    "# Get two principal components for the data.\n",
    "myopia_pca = pca.fit_transform(myopia_scaled)"
   ]
  },
  {
   "cell_type": "code",
   "execution_count": 13,
   "id": "46ea382a",
   "metadata": {},
   "outputs": [
    {
     "data": {
      "text/plain": [
       "(618, 12)"
      ]
     },
     "execution_count": 13,
     "metadata": {},
     "output_type": "execute_result"
    }
   ],
   "source": [
    "# Check that dimensions have been reduced to two\n",
    "myopia_pca.shape"
   ]
  },
  {
   "cell_type": "code",
   "execution_count": 12,
   "id": "ae83ce83",
   "metadata": {},
   "outputs": [
    {
     "name": "stderr",
     "output_type": "stream",
     "text": [
      "C:\\Users\\e138875\\Anaconda3\\envs\\PythonData\\lib\\site-packages\\sklearn\\manifold\\_t_sne.py:783: FutureWarning: The default initialization in TSNE will change from 'random' to 'pca' in 1.2.\n",
      "  FutureWarning,\n"
     ]
    }
   ],
   "source": [
    "# Run t-SNE\n",
    "tsne = TSNE(learning_rate=250)\n",
    "tsne_features = tsne.fit_transform(myopia_scaled)"
   ]
  },
  {
   "cell_type": "code",
   "execution_count": 14,
   "id": "63581090",
   "metadata": {},
   "outputs": [
    {
     "data": {
      "text/plain": [
       "(618, 2)"
      ]
     },
     "execution_count": 14,
     "metadata": {},
     "output_type": "execute_result"
    }
   ],
   "source": [
    "# Check that dimensions have been reduced to two\n",
    "tsne_features.shape"
   ]
  },
  {
   "cell_type": "code",
   "execution_count": 15,
   "id": "9fb9b6fb",
   "metadata": {},
   "outputs": [
    {
     "ename": "NameError",
     "evalue": "name 'plt' is not defined",
     "output_type": "error",
     "traceback": [
      "\u001b[1;31m---------------------------------------------------------------------------\u001b[0m",
      "\u001b[1;31mNameError\u001b[0m                                 Traceback (most recent call last)",
      "\u001b[1;32m~\\AppData\\Local\\Temp\\ipykernel_26552\\2349034034.py\u001b[0m in \u001b[0;36m<module>\u001b[1;34m\u001b[0m\n\u001b[0;32m      1\u001b[0m \u001b[1;31m# Plot the results\u001b[0m\u001b[1;33m\u001b[0m\u001b[1;33m\u001b[0m\u001b[1;33m\u001b[0m\u001b[0m\n\u001b[1;32m----> 2\u001b[1;33m \u001b[0mplt\u001b[0m\u001b[1;33m.\u001b[0m\u001b[0mscatter\u001b[0m\u001b[1;33m(\u001b[0m\u001b[0mtsne_features\u001b[0m\u001b[1;33m[\u001b[0m\u001b[1;33m:\u001b[0m\u001b[1;33m,\u001b[0m\u001b[1;36m0\u001b[0m\u001b[1;33m]\u001b[0m\u001b[1;33m,\u001b[0m \u001b[0mtsne_features\u001b[0m\u001b[1;33m[\u001b[0m\u001b[1;33m:\u001b[0m\u001b[1;33m,\u001b[0m\u001b[1;36m1\u001b[0m\u001b[1;33m]\u001b[0m\u001b[1;33m)\u001b[0m\u001b[1;33m\u001b[0m\u001b[1;33m\u001b[0m\u001b[0m\n\u001b[0m\u001b[0;32m      3\u001b[0m \u001b[0mplt\u001b[0m\u001b[1;33m.\u001b[0m\u001b[0mshow\u001b[0m\u001b[1;33m(\u001b[0m\u001b[1;33m)\u001b[0m\u001b[1;33m\u001b[0m\u001b[1;33m\u001b[0m\u001b[0m\n",
      "\u001b[1;31mNameError\u001b[0m: name 'plt' is not defined"
     ]
    }
   ],
   "source": [
    "# Plot the results\n",
    "plt.scatter(tsne_features[:,0], tsne_features[:,1])\n",
    "plt.show()"
   ]
  },
  {
   "cell_type": "code",
   "execution_count": null,
   "id": "d149ef1c",
   "metadata": {},
   "outputs": [],
   "source": []
  }
 ],
 "metadata": {
  "kernelspec": {
   "display_name": "PythonData",
   "language": "python",
   "name": "pythondata"
  },
  "language_info": {
   "codemirror_mode": {
    "name": "ipython",
    "version": 3
   },
   "file_extension": ".py",
   "mimetype": "text/x-python",
   "name": "python",
   "nbconvert_exporter": "python",
   "pygments_lexer": "ipython3",
   "version": "3.7.7"
  }
 },
 "nbformat": 4,
 "nbformat_minor": 5
}
